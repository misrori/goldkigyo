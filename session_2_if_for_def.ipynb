{
  "nbformat": 4,
  "nbformat_minor": 0,
  "metadata": {
    "colab": {
      "provenance": [],
      "authorship_tag": "ABX9TyOQFZK9jzOk+OvkypxS+pmN",
      "include_colab_link": true
    },
    "kernelspec": {
      "name": "python3",
      "display_name": "Python 3"
    },
    "language_info": {
      "name": "python"
    }
  },
  "cells": [
    {
      "cell_type": "markdown",
      "metadata": {
        "id": "view-in-github",
        "colab_type": "text"
      },
      "source": [
        "<a href=\"https://colab.research.google.com/github/misrori/goldkigyo/blob/main/session_2_if_for_def.ipynb\" target=\"_parent\"><img src=\"https://colab.research.google.com/assets/colab-badge.svg\" alt=\"Open In Colab\"/></a>"
      ]
    },
    {
      "cell_type": "markdown",
      "source": [
        "# If statment"
      ],
      "metadata": {
        "id": "H6d25F-gpG2x"
      }
    },
    {
      "cell_type": "code",
      "execution_count": null,
      "metadata": {
        "id": "QgS-2ofDohAp"
      },
      "outputs": [],
      "source": [
        "x = 10\n",
        "if x > 0:\n",
        "    print(\"x is positive\")"
      ]
    },
    {
      "cell_type": "code",
      "source": [
        "x = 10\n",
        "if x > 0:\n",
        "    print(\"x is positive\")\n",
        "elif x == 0:\n",
        "    print(\"x is zero\")"
      ],
      "metadata": {
        "id": "047C659HpKZO"
      },
      "execution_count": null,
      "outputs": []
    },
    {
      "cell_type": "code",
      "source": [
        "x = -5\n",
        "if x > 0:\n",
        "    print(\"x is positive\")\n",
        "elif x == 0:\n",
        "    print(\"x is zero\")\n",
        "else:\n",
        "    print(\"x is negative\")"
      ],
      "metadata": {
        "id": "_KFClv90pN3y"
      },
      "execution_count": null,
      "outputs": []
    },
    {
      "cell_type": "code",
      "source": [],
      "metadata": {
        "id": "tM26a3AGXON7"
      },
      "execution_count": null,
      "outputs": []
    },
    {
      "cell_type": "code",
      "source": [
        "x = 0\n",
        "'positiv' if x>0 else 'null' if x==0  else 'negativ'"
      ],
      "metadata": {
        "colab": {
          "base_uri": "https://localhost:8080/",
          "height": 35
        },
        "id": "XtwLpnESXPMK",
        "outputId": "37253a28-0bb0-437d-b2a7-76686d6effad"
      },
      "execution_count": null,
      "outputs": [
        {
          "output_type": "execute_result",
          "data": {
            "text/plain": [
              "'null'"
            ],
            "application/vnd.google.colaboratory.intrinsic+json": {
              "type": "string"
            }
          },
          "metadata": {},
          "execution_count": 10
        }
      ]
    },
    {
      "cell_type": "code",
      "source": [
        "x = 10\n",
        "result = \"x is positive\" if x > 0 else \"x is zero\" if x == 0 else \"x is negative\"\n",
        "print(result)"
      ],
      "metadata": {
        "id": "i8UuyPYCpV7u"
      },
      "execution_count": null,
      "outputs": []
    },
    {
      "cell_type": "markdown",
      "source": [
        "# For loop"
      ],
      "metadata": {
        "id": "c1uJMmlSph3S"
      }
    },
    {
      "cell_type": "code",
      "source": [],
      "metadata": {
        "id": "N-aNeEezphqR"
      },
      "execution_count": null,
      "outputs": []
    },
    {
      "cell_type": "code",
      "source": [
        "fruits = [\"apple\", \"banana\", \"cherry\"]\n",
        "for fruit in fruits:\n",
        "    print(fruit)"
      ],
      "metadata": {
        "id": "2k59arhcpZwY",
        "colab": {
          "base_uri": "https://localhost:8080/"
        },
        "outputId": "1b1d8f32-785a-43e5-b4e1-a050201c6fd3"
      },
      "execution_count": null,
      "outputs": [
        {
          "output_type": "stream",
          "name": "stdout",
          "text": [
            "apple\n",
            "banana\n",
            "cherry\n"
          ]
        }
      ]
    },
    {
      "cell_type": "code",
      "source": [
        "name = \"John\"\n",
        "for char in name:\n",
        "    print(char)"
      ],
      "metadata": {
        "id": "ZM2XFn8TppeZ",
        "colab": {
          "base_uri": "https://localhost:8080/"
        },
        "outputId": "307f0a2c-bb57-49c5-d1e7-e6cc49fab581"
      },
      "execution_count": null,
      "outputs": [
        {
          "output_type": "stream",
          "name": "stdout",
          "text": [
            "J\n",
            "o\n",
            "h\n",
            "n\n"
          ]
        }
      ]
    },
    {
      "cell_type": "code",
      "source": [
        "list(range(5, 100, 8))"
      ],
      "metadata": {
        "colab": {
          "base_uri": "https://localhost:8080/"
        },
        "id": "-V9wCO_1ZO3e",
        "outputId": "0c7d3970-3c7a-4f2b-9040-8fcd75c9fa90"
      },
      "execution_count": null,
      "outputs": [
        {
          "output_type": "execute_result",
          "data": {
            "text/plain": [
              "[5, 13, 21, 29, 37, 45, 53, 61, 69, 77, 85, 93]"
            ]
          },
          "metadata": {},
          "execution_count": 18
        }
      ]
    },
    {
      "cell_type": "code",
      "source": [
        "for i in range(5):\n",
        "    print(i)"
      ],
      "metadata": {
        "id": "HCiiX74JpsXI",
        "colab": {
          "base_uri": "https://localhost:8080/"
        },
        "outputId": "43d6d918-da60-4405-ec62-a60cbbb6f64b"
      },
      "execution_count": null,
      "outputs": [
        {
          "output_type": "stream",
          "name": "stdout",
          "text": [
            "0\n",
            "1\n",
            "2\n",
            "3\n",
            "4\n"
          ]
        }
      ]
    },
    {
      "cell_type": "code",
      "source": [
        "numbers = [1, 2, 3, 4, 5, 6, 7, 8, 9, 10]\n"
      ],
      "metadata": {
        "id": "INjo-5dcp6tA"
      },
      "execution_count": null,
      "outputs": []
    },
    {
      "cell_type": "code",
      "source": [
        "fruits = [\"apple\", \"banana\", \"cherry\"]\n",
        "\n",
        "for index, fruit in enumerate(fruits):\n",
        "    print (f\"with index {index} the vaue is :{fruit}\")"
      ],
      "metadata": {
        "colab": {
          "base_uri": "https://localhost:8080/"
        },
        "id": "cDCdESezTPwc",
        "outputId": "80afea79-c0bb-4586-ab47-87e1e9dcf78c"
      },
      "execution_count": null,
      "outputs": [
        {
          "output_type": "stream",
          "name": "stdout",
          "text": [
            "with index 0 the vaue is :apple\n",
            "with index 1 the vaue is :banana\n",
            "with index 2 the vaue is :cherry\n"
          ]
        }
      ]
    },
    {
      "cell_type": "code",
      "source": [
        "15%6"
      ],
      "metadata": {
        "colab": {
          "base_uri": "https://localhost:8080/"
        },
        "id": "35J2fHD_aV2M",
        "outputId": "e598cc80-42fb-45e3-be4b-cffef34b82ef"
      },
      "execution_count": null,
      "outputs": [
        {
          "output_type": "execute_result",
          "data": {
            "text/plain": [
              "3"
            ]
          },
          "metadata": {},
          "execution_count": 26
        }
      ]
    },
    {
      "cell_type": "code",
      "source": [
        "# Task 1: Print all even numbers from the list\n",
        "numbers = [1, 2, 3, 4, 5, 6, 7, 8, 9, 10]\n",
        "\n",
        "print(\"Even numbers:\")\n",
        "for num in numbers:\n",
        "    if num % 2 == 0:\n",
        "        print(num)\n"
      ],
      "metadata": {
        "id": "R9FkB12Op0p8",
        "colab": {
          "base_uri": "https://localhost:8080/"
        },
        "outputId": "d01c4970-2f6a-4de2-b472-1fb65caddd39"
      },
      "execution_count": null,
      "outputs": [
        {
          "output_type": "stream",
          "name": "stdout",
          "text": [
            "Even numbers:\n",
            "2\n",
            "4\n",
            "6\n",
            "8\n",
            "10\n"
          ]
        }
      ]
    },
    {
      "cell_type": "code",
      "source": [
        "\n",
        "\n",
        "\n",
        "# Task 2: Print all odd numbers from the list\n",
        "print(\"Odd numbers:\")\n",
        "for num in numbers:\n",
        "    if num % 2 != 0:\n",
        "        print(num)\n",
        "\n"
      ],
      "metadata": {
        "id": "x9NR56uep7To",
        "colab": {
          "base_uri": "https://localhost:8080/"
        },
        "outputId": "b787bd1e-1ef1-4093-c7fa-6d72ba796e38"
      },
      "execution_count": null,
      "outputs": [
        {
          "output_type": "stream",
          "name": "stdout",
          "text": [
            "Odd numbers:\n",
            "1\n",
            "3\n",
            "5\n",
            "7\n",
            "9\n"
          ]
        }
      ]
    },
    {
      "cell_type": "code",
      "source": [
        "# Task 3: Print numbers greater than 5 from the list\n",
        "print(\"Numbers greater than 5:\")\n",
        "for num in numbers:\n",
        "    if num > 5:\n",
        "        print(num)\n"
      ],
      "metadata": {
        "id": "eRuXy-ZGqJRD",
        "colab": {
          "base_uri": "https://localhost:8080/"
        },
        "outputId": "bb6d3c67-acd0-470e-942c-7954667bb569"
      },
      "execution_count": null,
      "outputs": [
        {
          "output_type": "stream",
          "name": "stdout",
          "text": [
            "Numbers greater than 5:\n",
            "6\n",
            "7\n",
            "8\n",
            "9\n",
            "10\n"
          ]
        }
      ]
    },
    {
      "cell_type": "code",
      "source": [
        "x = 74\n",
        "is_prime = True\n",
        "for i in range(2, x):\n",
        "    print(i)\n",
        "    if x%i == 0:\n",
        "        is_prime = False\n",
        "        break\n",
        "is_prime"
      ],
      "metadata": {
        "colab": {
          "base_uri": "https://localhost:8080/"
        },
        "id": "Fo04iue0bnnA",
        "outputId": "808dc1eb-3ae0-4156-c436-dcbd5d201717"
      },
      "execution_count": null,
      "outputs": [
        {
          "output_type": "stream",
          "name": "stdout",
          "text": [
            "2\n"
          ]
        },
        {
          "output_type": "execute_result",
          "data": {
            "text/plain": [
              "False"
            ]
          },
          "metadata": {},
          "execution_count": 38
        }
      ]
    },
    {
      "cell_type": "code",
      "source": [],
      "metadata": {
        "id": "XqFHgI7nbnkE"
      },
      "execution_count": null,
      "outputs": []
    },
    {
      "cell_type": "code",
      "source": [],
      "metadata": {
        "id": "vrQOQweabnEg"
      },
      "execution_count": null,
      "outputs": []
    },
    {
      "cell_type": "code",
      "source": [
        "# Task 4 check if a number is prime or not\n",
        "x = 10\n",
        "is_prime = True\n",
        "for i in range(2, x):\n",
        "    if x%i==0:\n",
        "        is_prime=False\n",
        "        break\n"
      ],
      "metadata": {
        "id": "Ut4yDMwhTrTm"
      },
      "execution_count": null,
      "outputs": []
    },
    {
      "cell_type": "code",
      "source": [
        "i = 0\n",
        "while i<10:\n",
        "    print(i)\n",
        "    i = i+1\n",
        "    # i+=1\n"
      ],
      "metadata": {
        "colab": {
          "base_uri": "https://localhost:8080/"
        },
        "id": "JHDZOQOrc_g5",
        "outputId": "01cd46f9-3601-4de0-e49a-e24cd23ebd0c"
      },
      "execution_count": null,
      "outputs": [
        {
          "output_type": "stream",
          "name": "stdout",
          "text": [
            "0\n",
            "1\n",
            "2\n",
            "3\n",
            "4\n",
            "5\n",
            "6\n",
            "7\n",
            "8\n",
            "9\n"
          ]
        }
      ]
    },
    {
      "cell_type": "code",
      "source": [
        "game_on = True\n",
        "x = 2\n",
        "while game_on:\n",
        "    print(x)\n",
        "    if x==5:\n",
        "        game_on=False\n",
        "    x +=1\n",
        "\n"
      ],
      "metadata": {
        "colab": {
          "base_uri": "https://localhost:8080/"
        },
        "id": "QWchHTiPc_eE",
        "outputId": "80290092-29f3-4a9a-c13b-4d609ad622b5"
      },
      "execution_count": null,
      "outputs": [
        {
          "output_type": "stream",
          "name": "stdout",
          "text": [
            "2\n",
            "3\n",
            "4\n",
            "5\n"
          ]
        }
      ]
    },
    {
      "cell_type": "code",
      "source": [
        "while True:\n",
        "    if x==6:\n",
        "        break"
      ],
      "metadata": {
        "id": "Qf3YmZdrd341"
      },
      "execution_count": null,
      "outputs": []
    },
    {
      "cell_type": "code",
      "source": [],
      "metadata": {
        "id": "IisLCy-ac4Z1"
      },
      "execution_count": null,
      "outputs": []
    },
    {
      "cell_type": "code",
      "source": [],
      "metadata": {
        "id": "i7plbB2Sc4Uw"
      },
      "execution_count": null,
      "outputs": []
    },
    {
      "cell_type": "markdown",
      "source": [
        "# Functions"
      ],
      "metadata": {
        "id": "C4SgiEPfqyZx"
      }
    },
    {
      "cell_type": "code",
      "source": [
        "def hello():\n",
        "    print('Hello World!')"
      ],
      "metadata": {
        "id": "9glgR_W70PbG"
      },
      "execution_count": null,
      "outputs": []
    },
    {
      "cell_type": "code",
      "source": [
        "hello()"
      ],
      "metadata": {
        "colab": {
          "base_uri": "https://localhost:8080/"
        },
        "id": "yjNtGgsP0QHH",
        "outputId": "84523b32-de67-49ff-fc43-685c3f55b0a1"
      },
      "execution_count": null,
      "outputs": [
        {
          "output_type": "stream",
          "name": "stdout",
          "text": [
            "Hello World!\n"
          ]
        }
      ]
    },
    {
      "cell_type": "code",
      "source": [
        "def hello2(my_name):\n",
        "    print(f'Hello {my_name}!')"
      ],
      "metadata": {
        "id": "CEi9k8X_0PUb"
      },
      "execution_count": null,
      "outputs": []
    },
    {
      "cell_type": "code",
      "source": [
        "hello2('Misi')"
      ],
      "metadata": {
        "colab": {
          "base_uri": "https://localhost:8080/"
        },
        "id": "BKEWm8160PRO",
        "outputId": "e32badac-38b6-4bb1-e21b-668cdab96ec5"
      },
      "execution_count": null,
      "outputs": [
        {
          "output_type": "stream",
          "name": "stdout",
          "text": [
            "Hello Misi!\n"
          ]
        }
      ]
    },
    {
      "cell_type": "code",
      "source": [
        "def hello():\n",
        "    2+3\n",
        "    print('Hello World!')\n"
      ],
      "metadata": {
        "id": "6aAWZ9gt0POc"
      },
      "execution_count": null,
      "outputs": []
    },
    {
      "cell_type": "code",
      "source": [
        "a = hello()"
      ],
      "metadata": {
        "colab": {
          "base_uri": "https://localhost:8080/"
        },
        "id": "GyVVJQw30PLb",
        "outputId": "50a0ed68-b755-43f4-bfa7-c150a115ca35"
      },
      "execution_count": null,
      "outputs": [
        {
          "output_type": "stream",
          "name": "stdout",
          "text": [
            "Hello World!\n"
          ]
        }
      ]
    },
    {
      "cell_type": "code",
      "source": [
        "def my_func():\n",
        "\n",
        "    return()"
      ],
      "metadata": {
        "id": "Zza2eKx_4BFl"
      },
      "execution_count": null,
      "outputs": []
    },
    {
      "cell_type": "code",
      "source": [
        "type(a)"
      ],
      "metadata": {
        "colab": {
          "base_uri": "https://localhost:8080/"
        },
        "id": "CYEvpMn-3zOD",
        "outputId": "4f2fe093-347a-4208-bab7-255276f641f6"
      },
      "execution_count": null,
      "outputs": [
        {
          "output_type": "execute_result",
          "data": {
            "text/plain": [
              "NoneType"
            ]
          },
          "metadata": {},
          "execution_count": 59
        }
      ]
    },
    {
      "cell_type": "code",
      "source": [
        "def check_prime(x):\n",
        "    is_prime = True\n",
        "    for i in range(2, x):\n",
        "        if x%i == 0:\n",
        "            is_prime = False\n",
        "            break\n",
        "    return(is_prime)"
      ],
      "metadata": {
        "id": "S4pVosx03zLE"
      },
      "execution_count": null,
      "outputs": []
    },
    {
      "cell_type": "code",
      "source": [
        "check_prime(45)"
      ],
      "metadata": {
        "colab": {
          "base_uri": "https://localhost:8080/"
        },
        "id": "87nT_ORJ3zIj",
        "outputId": "9155dcbd-9867-489b-d6e1-4c11ace5ad7c"
      },
      "execution_count": null,
      "outputs": [
        {
          "output_type": "execute_result",
          "data": {
            "text/plain": [
              "False"
            ]
          },
          "metadata": {},
          "execution_count": 63
        }
      ]
    },
    {
      "cell_type": "code",
      "source": [
        "for act_number in range(2, 101):\n",
        "    if check_prime(act_number):\n",
        "        print(f'The number: {act_number} is prime number')\n",
        "    else:\n",
        "        print(f'The number: {act_number} is not prime number')\n"
      ],
      "metadata": {
        "colab": {
          "base_uri": "https://localhost:8080/"
        },
        "id": "7hmEPZm90PC7",
        "outputId": "9163f860-9040-418c-e1b0-ee3acd577abb"
      },
      "execution_count": null,
      "outputs": [
        {
          "output_type": "stream",
          "name": "stdout",
          "text": [
            "The number: 2 is prime number\n",
            "The number: 3 is prime number\n",
            "The number: 4 is not prime number\n",
            "The number: 5 is prime number\n",
            "The number: 6 is not prime number\n",
            "The number: 7 is prime number\n",
            "The number: 8 is not prime number\n",
            "The number: 9 is not prime number\n",
            "The number: 10 is not prime number\n",
            "The number: 11 is prime number\n",
            "The number: 12 is not prime number\n",
            "The number: 13 is prime number\n",
            "The number: 14 is not prime number\n",
            "The number: 15 is not prime number\n",
            "The number: 16 is not prime number\n",
            "The number: 17 is prime number\n",
            "The number: 18 is not prime number\n",
            "The number: 19 is prime number\n",
            "The number: 20 is not prime number\n",
            "The number: 21 is not prime number\n",
            "The number: 22 is not prime number\n",
            "The number: 23 is prime number\n",
            "The number: 24 is not prime number\n",
            "The number: 25 is not prime number\n",
            "The number: 26 is not prime number\n",
            "The number: 27 is not prime number\n",
            "The number: 28 is not prime number\n",
            "The number: 29 is prime number\n",
            "The number: 30 is not prime number\n",
            "The number: 31 is prime number\n",
            "The number: 32 is not prime number\n",
            "The number: 33 is not prime number\n",
            "The number: 34 is not prime number\n",
            "The number: 35 is not prime number\n",
            "The number: 36 is not prime number\n",
            "The number: 37 is prime number\n",
            "The number: 38 is not prime number\n",
            "The number: 39 is not prime number\n",
            "The number: 40 is not prime number\n",
            "The number: 41 is prime number\n",
            "The number: 42 is not prime number\n",
            "The number: 43 is prime number\n",
            "The number: 44 is not prime number\n",
            "The number: 45 is not prime number\n",
            "The number: 46 is not prime number\n",
            "The number: 47 is prime number\n",
            "The number: 48 is not prime number\n",
            "The number: 49 is not prime number\n",
            "The number: 50 is not prime number\n",
            "The number: 51 is not prime number\n",
            "The number: 52 is not prime number\n",
            "The number: 53 is prime number\n",
            "The number: 54 is not prime number\n",
            "The number: 55 is not prime number\n",
            "The number: 56 is not prime number\n",
            "The number: 57 is not prime number\n",
            "The number: 58 is not prime number\n",
            "The number: 59 is prime number\n",
            "The number: 60 is not prime number\n",
            "The number: 61 is prime number\n",
            "The number: 62 is not prime number\n",
            "The number: 63 is not prime number\n",
            "The number: 64 is not prime number\n",
            "The number: 65 is not prime number\n",
            "The number: 66 is not prime number\n",
            "The number: 67 is prime number\n",
            "The number: 68 is not prime number\n",
            "The number: 69 is not prime number\n",
            "The number: 70 is not prime number\n",
            "The number: 71 is prime number\n",
            "The number: 72 is not prime number\n",
            "The number: 73 is prime number\n",
            "The number: 74 is not prime number\n",
            "The number: 75 is not prime number\n",
            "The number: 76 is not prime number\n",
            "The number: 77 is not prime number\n",
            "The number: 78 is not prime number\n",
            "The number: 79 is prime number\n",
            "The number: 80 is not prime number\n",
            "The number: 81 is not prime number\n",
            "The number: 82 is not prime number\n",
            "The number: 83 is prime number\n",
            "The number: 84 is not prime number\n",
            "The number: 85 is not prime number\n",
            "The number: 86 is not prime number\n",
            "The number: 87 is not prime number\n",
            "The number: 88 is not prime number\n",
            "The number: 89 is prime number\n",
            "The number: 90 is not prime number\n",
            "The number: 91 is not prime number\n",
            "The number: 92 is not prime number\n",
            "The number: 93 is not prime number\n",
            "The number: 94 is not prime number\n",
            "The number: 95 is not prime number\n",
            "The number: 96 is not prime number\n",
            "The number: 97 is prime number\n",
            "The number: 98 is not prime number\n",
            "The number: 99 is not prime number\n",
            "The number: 100 is not prime number\n"
          ]
        }
      ]
    },
    {
      "cell_type": "code",
      "source": [],
      "metadata": {
        "id": "6RXVGR210O_b"
      },
      "execution_count": null,
      "outputs": []
    },
    {
      "cell_type": "code",
      "source": [],
      "metadata": {
        "id": "P4edMjhm0O8a"
      },
      "execution_count": null,
      "outputs": []
    },
    {
      "cell_type": "code",
      "source": [
        "# Task 4: Check if a number is prime or not\n",
        "def is_prime(num):\n",
        "    if num <= 1:\n",
        "        return False\n",
        "    for i in range(2, int(num ** 0.5) + 1):\n",
        "        if num % i == 0:\n",
        "            return False\n",
        "    return True\n",
        "\n"
      ],
      "metadata": {
        "id": "4uWGfbaYqQKd"
      },
      "execution_count": null,
      "outputs": []
    },
    {
      "cell_type": "code",
      "source": [
        "# Task 5: Print all prime numbers from the list\n",
        "print(\"Prime numbers:\")\n",
        "for num in numbers:\n",
        "    if is_prime(num):\n",
        "        print(num)"
      ],
      "metadata": {
        "id": "8G5QtVZ3qUvS"
      },
      "execution_count": null,
      "outputs": []
    },
    {
      "cell_type": "code",
      "source": [],
      "metadata": {
        "id": "m7_7oKz9sNMY"
      },
      "execution_count": null,
      "outputs": []
    }
  ]
}