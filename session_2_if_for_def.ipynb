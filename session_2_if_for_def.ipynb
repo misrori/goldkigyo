{
  "nbformat": 4,
  "nbformat_minor": 0,
  "metadata": {
    "colab": {
      "provenance": [],
      "authorship_tag": "ABX9TyPjI3rAShSH9y7ZXZKRfVg9",
      "include_colab_link": true
    },
    "kernelspec": {
      "name": "python3",
      "display_name": "Python 3"
    },
    "language_info": {
      "name": "python"
    }
  },
  "cells": [
    {
      "cell_type": "markdown",
      "metadata": {
        "id": "view-in-github",
        "colab_type": "text"
      },
      "source": [
        "<a href=\"https://colab.research.google.com/github/misrori/goldkigyo/blob/main/session_2_if_for_def.ipynb\" target=\"_parent\"><img src=\"https://colab.research.google.com/assets/colab-badge.svg\" alt=\"Open In Colab\"/></a>"
      ]
    },
    {
      "cell_type": "markdown",
      "source": [
        "# If statment"
      ],
      "metadata": {
        "id": "H6d25F-gpG2x"
      }
    },
    {
      "cell_type": "code",
      "execution_count": null,
      "metadata": {
        "id": "QgS-2ofDohAp"
      },
      "outputs": [],
      "source": [
        "x = 10\n",
        "if x > 0:\n",
        "    print(\"x is positive\")"
      ]
    },
    {
      "cell_type": "code",
      "source": [
        "x = 10\n",
        "if x > 0:\n",
        "    print(\"x is positive\")\n",
        "elif x == 0:\n",
        "    print(\"x is zero\")"
      ],
      "metadata": {
        "id": "047C659HpKZO"
      },
      "execution_count": null,
      "outputs": []
    },
    {
      "cell_type": "code",
      "source": [
        "x = -5\n",
        "if x > 0:\n",
        "    print(\"x is positive\")\n",
        "elif x == 0:\n",
        "    print(\"x is zero\")\n",
        "else:\n",
        "    print(\"x is negative\")"
      ],
      "metadata": {
        "id": "_KFClv90pN3y"
      },
      "execution_count": null,
      "outputs": []
    },
    {
      "cell_type": "code",
      "source": [],
      "metadata": {
        "id": "tM26a3AGXON7"
      },
      "execution_count": null,
      "outputs": []
    },
    {
      "cell_type": "code",
      "source": [
        "x = 0\n",
        "'positiv' if x>0 else 'null' if x==0  else 'negativ'"
      ],
      "metadata": {
        "colab": {
          "base_uri": "https://localhost:8080/",
          "height": 35
        },
        "id": "XtwLpnESXPMK",
        "outputId": "37253a28-0bb0-437d-b2a7-76686d6effad"
      },
      "execution_count": null,
      "outputs": [
        {
          "output_type": "execute_result",
          "data": {
            "text/plain": [
              "'null'"
            ],
            "application/vnd.google.colaboratory.intrinsic+json": {
              "type": "string"
            }
          },
          "metadata": {},
          "execution_count": 10
        }
      ]
    },
    {
      "cell_type": "code",
      "source": [
        "x = 10\n",
        "result = \"x is positive\" if x > 0 else \"x is zero\" if x == 0 else \"x is negative\"\n",
        "print(result)"
      ],
      "metadata": {
        "id": "i8UuyPYCpV7u"
      },
      "execution_count": null,
      "outputs": []
    },
    {
      "cell_type": "markdown",
      "source": [
        "# For loop"
      ],
      "metadata": {
        "id": "c1uJMmlSph3S"
      }
    },
    {
      "cell_type": "code",
      "source": [],
      "metadata": {
        "id": "N-aNeEezphqR"
      },
      "execution_count": null,
      "outputs": []
    },
    {
      "cell_type": "code",
      "source": [
        "fruits = [\"apple\", \"banana\", \"cherry\"]\n",
        "for fruit in fruits:\n",
        "    print(fruit)"
      ],
      "metadata": {
        "id": "2k59arhcpZwY",
        "colab": {
          "base_uri": "https://localhost:8080/"
        },
        "outputId": "1b1d8f32-785a-43e5-b4e1-a050201c6fd3"
      },
      "execution_count": null,
      "outputs": [
        {
          "output_type": "stream",
          "name": "stdout",
          "text": [
            "apple\n",
            "banana\n",
            "cherry\n"
          ]
        }
      ]
    },
    {
      "cell_type": "code",
      "source": [
        "name = \"John\"\n",
        "for char in name:\n",
        "    print(char)"
      ],
      "metadata": {
        "id": "ZM2XFn8TppeZ",
        "colab": {
          "base_uri": "https://localhost:8080/"
        },
        "outputId": "307f0a2c-bb57-49c5-d1e7-e6cc49fab581"
      },
      "execution_count": null,
      "outputs": [
        {
          "output_type": "stream",
          "name": "stdout",
          "text": [
            "J\n",
            "o\n",
            "h\n",
            "n\n"
          ]
        }
      ]
    },
    {
      "cell_type": "code",
      "source": [
        "list(range(5, 100, 8))"
      ],
      "metadata": {
        "colab": {
          "base_uri": "https://localhost:8080/"
        },
        "id": "-V9wCO_1ZO3e",
        "outputId": "0c7d3970-3c7a-4f2b-9040-8fcd75c9fa90"
      },
      "execution_count": null,
      "outputs": [
        {
          "output_type": "execute_result",
          "data": {
            "text/plain": [
              "[5, 13, 21, 29, 37, 45, 53, 61, 69, 77, 85, 93]"
            ]
          },
          "metadata": {},
          "execution_count": 18
        }
      ]
    },
    {
      "cell_type": "code",
      "source": [
        "for i in range(5):\n",
        "    print(i)"
      ],
      "metadata": {
        "id": "HCiiX74JpsXI",
        "colab": {
          "base_uri": "https://localhost:8080/"
        },
        "outputId": "43d6d918-da60-4405-ec62-a60cbbb6f64b"
      },
      "execution_count": null,
      "outputs": [
        {
          "output_type": "stream",
          "name": "stdout",
          "text": [
            "0\n",
            "1\n",
            "2\n",
            "3\n",
            "4\n"
          ]
        }
      ]
    },
    {
      "cell_type": "code",
      "source": [
        "numbers = [1, 2, 3, 4, 5, 6, 7, 8, 9, 10]\n"
      ],
      "metadata": {
        "id": "INjo-5dcp6tA"
      },
      "execution_count": null,
      "outputs": []
    },
    {
      "cell_type": "code",
      "source": [
        "fruits = [\"apple\", \"banana\", \"cherry\"]\n",
        "\n",
        "for index, fruit in enumerate(fruits):\n",
        "    print (f\"with index {index} the vaue is :{fruit}\")"
      ],
      "metadata": {
        "colab": {
          "base_uri": "https://localhost:8080/"
        },
        "id": "cDCdESezTPwc",
        "outputId": "80afea79-c0bb-4586-ab47-87e1e9dcf78c"
      },
      "execution_count": null,
      "outputs": [
        {
          "output_type": "stream",
          "name": "stdout",
          "text": [
            "with index 0 the vaue is :apple\n",
            "with index 1 the vaue is :banana\n",
            "with index 2 the vaue is :cherry\n"
          ]
        }
      ]
    },
    {
      "cell_type": "code",
      "source": [
        "15%6"
      ],
      "metadata": {
        "colab": {
          "base_uri": "https://localhost:8080/"
        },
        "id": "35J2fHD_aV2M",
        "outputId": "e598cc80-42fb-45e3-be4b-cffef34b82ef"
      },
      "execution_count": null,
      "outputs": [
        {
          "output_type": "execute_result",
          "data": {
            "text/plain": [
              "3"
            ]
          },
          "metadata": {},
          "execution_count": 26
        }
      ]
    },
    {
      "cell_type": "code",
      "source": [
        "# Task 1: Print all even numbers from the list\n",
        "numbers = [1, 2, 3, 4, 5, 6, 7, 8, 9, 10]\n",
        "\n",
        "print(\"Even numbers:\")\n",
        "for num in numbers:\n",
        "    if num % 2 == 0:\n",
        "        print(num)\n"
      ],
      "metadata": {
        "id": "R9FkB12Op0p8",
        "colab": {
          "base_uri": "https://localhost:8080/"
        },
        "outputId": "d01c4970-2f6a-4de2-b472-1fb65caddd39"
      },
      "execution_count": null,
      "outputs": [
        {
          "output_type": "stream",
          "name": "stdout",
          "text": [
            "Even numbers:\n",
            "2\n",
            "4\n",
            "6\n",
            "8\n",
            "10\n"
          ]
        }
      ]
    },
    {
      "cell_type": "code",
      "source": [
        "\n",
        "\n",
        "\n",
        "# Task 2: Print all odd numbers from the list\n",
        "print(\"Odd numbers:\")\n",
        "for num in numbers:\n",
        "    if num % 2 != 0:\n",
        "        print(num)\n",
        "\n"
      ],
      "metadata": {
        "id": "x9NR56uep7To",
        "colab": {
          "base_uri": "https://localhost:8080/"
        },
        "outputId": "b787bd1e-1ef1-4093-c7fa-6d72ba796e38"
      },
      "execution_count": null,
      "outputs": [
        {
          "output_type": "stream",
          "name": "stdout",
          "text": [
            "Odd numbers:\n",
            "1\n",
            "3\n",
            "5\n",
            "7\n",
            "9\n"
          ]
        }
      ]
    },
    {
      "cell_type": "code",
      "source": [
        "# Task 3: Print numbers greater than 5 from the list\n",
        "print(\"Numbers greater than 5:\")\n",
        "for num in numbers:\n",
        "    if num > 5:\n",
        "        print(num)\n"
      ],
      "metadata": {
        "id": "eRuXy-ZGqJRD",
        "colab": {
          "base_uri": "https://localhost:8080/"
        },
        "outputId": "bb6d3c67-acd0-470e-942c-7954667bb569"
      },
      "execution_count": null,
      "outputs": [
        {
          "output_type": "stream",
          "name": "stdout",
          "text": [
            "Numbers greater than 5:\n",
            "6\n",
            "7\n",
            "8\n",
            "9\n",
            "10\n"
          ]
        }
      ]
    },
    {
      "cell_type": "code",
      "source": [
        "x = 74\n",
        "is_prime = True\n",
        "for i in range(2, x):\n",
        "    print(i)\n",
        "    if x%i == 0:\n",
        "        is_prime = False\n",
        "        break\n",
        "is_prime"
      ],
      "metadata": {
        "colab": {
          "base_uri": "https://localhost:8080/"
        },
        "id": "Fo04iue0bnnA",
        "outputId": "808dc1eb-3ae0-4156-c436-dcbd5d201717"
      },
      "execution_count": null,
      "outputs": [
        {
          "output_type": "stream",
          "name": "stdout",
          "text": [
            "2\n"
          ]
        },
        {
          "output_type": "execute_result",
          "data": {
            "text/plain": [
              "False"
            ]
          },
          "metadata": {},
          "execution_count": 38
        }
      ]
    },
    {
      "cell_type": "code",
      "source": [],
      "metadata": {
        "id": "XqFHgI7nbnkE"
      },
      "execution_count": null,
      "outputs": []
    },
    {
      "cell_type": "code",
      "source": [],
      "metadata": {
        "id": "vrQOQweabnEg"
      },
      "execution_count": null,
      "outputs": []
    },
    {
      "cell_type": "code",
      "source": [
        "# Task 4 check if a number is prime or not\n",
        "x = 10\n",
        "is_prime = True\n",
        "for i in range(2, x):\n",
        "    if x%i==0:\n",
        "        is_prime=False\n",
        "        break\n"
      ],
      "metadata": {
        "id": "Ut4yDMwhTrTm"
      },
      "execution_count": null,
      "outputs": []
    },
    {
      "cell_type": "code",
      "source": [
        "i = 0\n",
        "while i<10:\n",
        "    print(i)\n",
        "    i = i+1\n",
        "    # i+=1\n"
      ],
      "metadata": {
        "colab": {
          "base_uri": "https://localhost:8080/"
        },
        "id": "JHDZOQOrc_g5",
        "outputId": "01cd46f9-3601-4de0-e49a-e24cd23ebd0c"
      },
      "execution_count": null,
      "outputs": [
        {
          "output_type": "stream",
          "name": "stdout",
          "text": [
            "0\n",
            "1\n",
            "2\n",
            "3\n",
            "4\n",
            "5\n",
            "6\n",
            "7\n",
            "8\n",
            "9\n"
          ]
        }
      ]
    },
    {
      "cell_type": "code",
      "source": [
        "game_on = True\n",
        "x = 2\n",
        "while game_on:\n",
        "    print(x)\n",
        "    if x==5:\n",
        "        game_on=False\n",
        "    x +=1\n",
        "\n"
      ],
      "metadata": {
        "colab": {
          "base_uri": "https://localhost:8080/"
        },
        "id": "QWchHTiPc_eE",
        "outputId": "80290092-29f3-4a9a-c13b-4d609ad622b5"
      },
      "execution_count": null,
      "outputs": [
        {
          "output_type": "stream",
          "name": "stdout",
          "text": [
            "2\n",
            "3\n",
            "4\n",
            "5\n"
          ]
        }
      ]
    },
    {
      "cell_type": "code",
      "source": [
        "while True:\n",
        "    if x==6:\n",
        "        break"
      ],
      "metadata": {
        "id": "Qf3YmZdrd341"
      },
      "execution_count": null,
      "outputs": []
    },
    {
      "cell_type": "code",
      "source": [],
      "metadata": {
        "id": "IisLCy-ac4Z1"
      },
      "execution_count": null,
      "outputs": []
    },
    {
      "cell_type": "code",
      "source": [],
      "metadata": {
        "id": "i7plbB2Sc4Uw"
      },
      "execution_count": null,
      "outputs": []
    },
    {
      "cell_type": "markdown",
      "source": [
        "# Functions"
      ],
      "metadata": {
        "id": "C4SgiEPfqyZx"
      }
    },
    {
      "cell_type": "code",
      "source": [
        "def hello():\n",
        "    print('Hello World!')"
      ],
      "metadata": {
        "id": "9glgR_W70PbG"
      },
      "execution_count": null,
      "outputs": []
    },
    {
      "cell_type": "code",
      "source": [
        "hello()"
      ],
      "metadata": {
        "colab": {
          "base_uri": "https://localhost:8080/"
        },
        "id": "yjNtGgsP0QHH",
        "outputId": "84523b32-de67-49ff-fc43-685c3f55b0a1"
      },
      "execution_count": null,
      "outputs": [
        {
          "output_type": "stream",
          "name": "stdout",
          "text": [
            "Hello World!\n"
          ]
        }
      ]
    },
    {
      "cell_type": "code",
      "source": [
        "def hello2(my_name):\n",
        "    print(f'Hello {my_name}!')"
      ],
      "metadata": {
        "id": "CEi9k8X_0PUb"
      },
      "execution_count": null,
      "outputs": []
    },
    {
      "cell_type": "code",
      "source": [
        "hello2('Misi')"
      ],
      "metadata": {
        "colab": {
          "base_uri": "https://localhost:8080/"
        },
        "id": "BKEWm8160PRO",
        "outputId": "e32badac-38b6-4bb1-e21b-668cdab96ec5"
      },
      "execution_count": null,
      "outputs": [
        {
          "output_type": "stream",
          "name": "stdout",
          "text": [
            "Hello Misi!\n"
          ]
        }
      ]
    },
    {
      "cell_type": "code",
      "source": [
        "def hello():\n",
        "    2+3\n",
        "    print('Hello World!')\n"
      ],
      "metadata": {
        "id": "6aAWZ9gt0POc"
      },
      "execution_count": null,
      "outputs": []
    },
    {
      "cell_type": "code",
      "source": [
        "a = hello()"
      ],
      "metadata": {
        "colab": {
          "base_uri": "https://localhost:8080/"
        },
        "id": "GyVVJQw30PLb",
        "outputId": "50a0ed68-b755-43f4-bfa7-c150a115ca35"
      },
      "execution_count": null,
      "outputs": [
        {
          "output_type": "stream",
          "name": "stdout",
          "text": [
            "Hello World!\n"
          ]
        }
      ]
    },
    {
      "cell_type": "code",
      "source": [
        "def my_func():\n",
        "\n",
        "    return()"
      ],
      "metadata": {
        "id": "Zza2eKx_4BFl"
      },
      "execution_count": null,
      "outputs": []
    },
    {
      "cell_type": "code",
      "source": [
        "type(a)"
      ],
      "metadata": {
        "colab": {
          "base_uri": "https://localhost:8080/"
        },
        "id": "CYEvpMn-3zOD",
        "outputId": "4f2fe093-347a-4208-bab7-255276f641f6"
      },
      "execution_count": null,
      "outputs": [
        {
          "output_type": "execute_result",
          "data": {
            "text/plain": [
              "NoneType"
            ]
          },
          "metadata": {},
          "execution_count": 59
        }
      ]
    },
    {
      "cell_type": "code",
      "source": [
        "def check_prime(x):\n",
        "    is_prime = True\n",
        "    for i in range(2, x):\n",
        "        if x%i == 0:\n",
        "            is_prime = False\n",
        "            break\n",
        "    return(is_prime)"
      ],
      "metadata": {
        "id": "S4pVosx03zLE"
      },
      "execution_count": null,
      "outputs": []
    },
    {
      "cell_type": "code",
      "source": [
        "check_prime(45)"
      ],
      "metadata": {
        "colab": {
          "base_uri": "https://localhost:8080/"
        },
        "id": "87nT_ORJ3zIj",
        "outputId": "9155dcbd-9867-489b-d6e1-4c11ace5ad7c"
      },
      "execution_count": null,
      "outputs": [
        {
          "output_type": "execute_result",
          "data": {
            "text/plain": [
              "False"
            ]
          },
          "metadata": {},
          "execution_count": 63
        }
      ]
    },
    {
      "cell_type": "code",
      "source": [
        "for act_number in range(2, 101):\n",
        "    if check_prime(act_number):\n",
        "        print(f'The number: {act_number} is prime number')\n",
        "    else:\n",
        "        print(f'The number: {act_number} is not prime number')\n"
      ],
      "metadata": {
        "colab": {
          "base_uri": "https://localhost:8080/"
        },
        "id": "7hmEPZm90PC7",
        "outputId": "9163f860-9040-418c-e1b0-ee3acd577abb"
      },
      "execution_count": null,
      "outputs": [
        {
          "output_type": "stream",
          "name": "stdout",
          "text": [
            "The number: 2 is prime number\n",
            "The number: 3 is prime number\n",
            "The number: 4 is not prime number\n",
            "The number: 5 is prime number\n",
            "The number: 6 is not prime number\n",
            "The number: 7 is prime number\n",
            "The number: 8 is not prime number\n",
            "The number: 9 is not prime number\n",
            "The number: 10 is not prime number\n",
            "The number: 11 is prime number\n",
            "The number: 12 is not prime number\n",
            "The number: 13 is prime number\n",
            "The number: 14 is not prime number\n",
            "The number: 15 is not prime number\n",
            "The number: 16 is not prime number\n",
            "The number: 17 is prime number\n",
            "The number: 18 is not prime number\n",
            "The number: 19 is prime number\n",
            "The number: 20 is not prime number\n",
            "The number: 21 is not prime number\n",
            "The number: 22 is not prime number\n",
            "The number: 23 is prime number\n",
            "The number: 24 is not prime number\n",
            "The number: 25 is not prime number\n",
            "The number: 26 is not prime number\n",
            "The number: 27 is not prime number\n",
            "The number: 28 is not prime number\n",
            "The number: 29 is prime number\n",
            "The number: 30 is not prime number\n",
            "The number: 31 is prime number\n",
            "The number: 32 is not prime number\n",
            "The number: 33 is not prime number\n",
            "The number: 34 is not prime number\n",
            "The number: 35 is not prime number\n",
            "The number: 36 is not prime number\n",
            "The number: 37 is prime number\n",
            "The number: 38 is not prime number\n",
            "The number: 39 is not prime number\n",
            "The number: 40 is not prime number\n",
            "The number: 41 is prime number\n",
            "The number: 42 is not prime number\n",
            "The number: 43 is prime number\n",
            "The number: 44 is not prime number\n",
            "The number: 45 is not prime number\n",
            "The number: 46 is not prime number\n",
            "The number: 47 is prime number\n",
            "The number: 48 is not prime number\n",
            "The number: 49 is not prime number\n",
            "The number: 50 is not prime number\n",
            "The number: 51 is not prime number\n",
            "The number: 52 is not prime number\n",
            "The number: 53 is prime number\n",
            "The number: 54 is not prime number\n",
            "The number: 55 is not prime number\n",
            "The number: 56 is not prime number\n",
            "The number: 57 is not prime number\n",
            "The number: 58 is not prime number\n",
            "The number: 59 is prime number\n",
            "The number: 60 is not prime number\n",
            "The number: 61 is prime number\n",
            "The number: 62 is not prime number\n",
            "The number: 63 is not prime number\n",
            "The number: 64 is not prime number\n",
            "The number: 65 is not prime number\n",
            "The number: 66 is not prime number\n",
            "The number: 67 is prime number\n",
            "The number: 68 is not prime number\n",
            "The number: 69 is not prime number\n",
            "The number: 70 is not prime number\n",
            "The number: 71 is prime number\n",
            "The number: 72 is not prime number\n",
            "The number: 73 is prime number\n",
            "The number: 74 is not prime number\n",
            "The number: 75 is not prime number\n",
            "The number: 76 is not prime number\n",
            "The number: 77 is not prime number\n",
            "The number: 78 is not prime number\n",
            "The number: 79 is prime number\n",
            "The number: 80 is not prime number\n",
            "The number: 81 is not prime number\n",
            "The number: 82 is not prime number\n",
            "The number: 83 is prime number\n",
            "The number: 84 is not prime number\n",
            "The number: 85 is not prime number\n",
            "The number: 86 is not prime number\n",
            "The number: 87 is not prime number\n",
            "The number: 88 is not prime number\n",
            "The number: 89 is prime number\n",
            "The number: 90 is not prime number\n",
            "The number: 91 is not prime number\n",
            "The number: 92 is not prime number\n",
            "The number: 93 is not prime number\n",
            "The number: 94 is not prime number\n",
            "The number: 95 is not prime number\n",
            "The number: 96 is not prime number\n",
            "The number: 97 is prime number\n",
            "The number: 98 is not prime number\n",
            "The number: 99 is not prime number\n",
            "The number: 100 is not prime number\n"
          ]
        }
      ]
    },
    {
      "cell_type": "code",
      "source": [],
      "metadata": {
        "id": "6RXVGR210O_b"
      },
      "execution_count": null,
      "outputs": []
    },
    {
      "cell_type": "code",
      "source": [],
      "metadata": {
        "id": "P4edMjhm0O8a"
      },
      "execution_count": null,
      "outputs": []
    },
    {
      "cell_type": "code",
      "source": [
        "# Task 4: Check if a number is prime or not\n",
        "def is_prime(num):\n",
        "    if num <= 1:\n",
        "        return False\n",
        "    for i in range(2, int(num ** 0.5) + 1):\n",
        "        if num % i == 0:\n",
        "            return False\n",
        "    return True\n",
        "\n"
      ],
      "metadata": {
        "id": "4uWGfbaYqQKd"
      },
      "execution_count": null,
      "outputs": []
    },
    {
      "cell_type": "code",
      "source": [
        "# Task 5: Print all prime numbers from the list\n",
        "print(\"Prime numbers:\")\n",
        "for num in numbers:\n",
        "    if is_prime(num):\n",
        "        print(num)"
      ],
      "metadata": {
        "id": "8G5QtVZ3qUvS"
      },
      "execution_count": null,
      "outputs": []
    },
    {
      "cell_type": "markdown",
      "source": [
        "# AOC 2022 Day1\n",
        "\n",
        "\n",
        "\n",
        "```\n",
        "--- Day 1: Calorie Counting ---\n",
        "Santa's reindeer typically eat regular reindeer food, but they need a lot of magical energy to deliver presents on Christmas. For that, their favorite snack is a special type of star fruit that only grows deep in the jungle. The Elves have brought you on their annual expedition to the grove where the fruit grows.\n",
        "\n",
        "To supply enough magical energy, the expedition needs to retrieve a minimum of fifty stars by December 25th. Although the Elves assure you that the grove has plenty of fruit, you decide to grab any fruit you see along the way, just in case.\n",
        "\n",
        "Collect stars by solving puzzles. Two puzzles will be made available on each day in the Advent calendar; the second puzzle is unlocked when you complete the first. Each puzzle grants one star. Good luck!\n",
        "\n",
        "The jungle must be too overgrown and difficult to navigate in vehicles or access from the air; the Elves' expedition traditionally goes on foot. As your boats approach land, the Elves begin taking inventory of their supplies. One important consideration is food - in particular, the number of Calories each Elf is carrying (your puzzle input).\n",
        "\n",
        "The Elves take turns writing down the number of Calories contained by the various meals, snacks, rations, etc. that they've brought with them, one item per line. Each Elf separates their own inventory from the previous Elf's inventory (if any) by a blank line.\n",
        "\n",
        "For example, suppose the Elves finish writing their items' Calories and end up with the following list:\n",
        "\n",
        "1000\n",
        "2000\n",
        "3000\n",
        "\n",
        "4000\n",
        "\n",
        "5000\n",
        "6000\n",
        "\n",
        "7000\n",
        "8000\n",
        "9000\n",
        "\n",
        "10000\n",
        "This list represents the Calories of the food carried by five Elves:\n",
        "\n",
        "The first Elf is carrying food with 1000, 2000, and 3000 Calories, a total of 6000 Calories.\n",
        "The second Elf is carrying one food item with 4000 Calories.\n",
        "The third Elf is carrying food with 5000 and 6000 Calories, a total of 11000 Calories.\n",
        "The fourth Elf is carrying food with 7000, 8000, and 9000 Calories, a total of 24000 Calories.\n",
        "The fifth Elf is carrying one food item with 10000 Calories.\n",
        "In case the Elves get hungry and need extra snacks, they need to know which Elf to ask: they'd like to know how many Calories are being carried by the Elf carrying the most Calories. In the example above, this is 24000 (carried by the fourth Elf).\n",
        "\n",
        "Find the Elf carrying the most Calories. How many total Calories is that Elf carrying?\n",
        "\n",
        "Your puzzle answer was 70116.\n",
        "\n",
        "--- Part Two ---\n",
        "By the time you calculate the answer to the Elves' question, they've already realized that the Elf carrying the most Calories of food might eventually run out of snacks.\n",
        "\n",
        "To avoid this unacceptable situation, the Elves would instead like to know the total Calories carried by the top three Elves carrying the most Calories. That way, even if one of those Elves runs out of snacks, they still have two backups.\n",
        "\n",
        "In the example above, the top three Elves are the fourth Elf (with 24000 Calories), then the third Elf (with 11000 Calories), then the fifth Elf (with 10000 Calories). The sum of the Calories carried by these three elves is 45000.\n",
        "\n",
        "Find the top three Elves carrying the most Calories. How many Calories are those Elves carrying in total?\n",
        "\n",
        "Your puzzle answer was 206582.\n",
        "```\n",
        "\n"
      ],
      "metadata": {
        "id": "q9Lnci5trxzg"
      }
    },
    {
      "cell_type": "code",
      "source": [
        "import requests\n",
        "\n",
        "data = requests.get(\"https://raw.githubusercontent.com/misrori/aoc/2022/day1.txt\").text.split('\\n')\n",
        "data.pop()\n"
      ],
      "metadata": {
        "colab": {
          "base_uri": "https://localhost:8080/",
          "height": 35
        },
        "id": "9UOVxYX1rqoI",
        "outputId": "1ff33d98-ba03-410d-8d7a-db33edc8feae"
      },
      "execution_count": null,
      "outputs": [
        {
          "output_type": "execute_result",
          "data": {
            "text/plain": [
              "''"
            ],
            "application/vnd.google.colaboratory.intrinsic+json": {
              "type": "string"
            }
          },
          "metadata": {},
          "execution_count": 1
        }
      ]
    },
    {
      "cell_type": "code",
      "source": [
        "data"
      ],
      "metadata": {
        "id": "PyvPHxPysLJF",
        "outputId": "923a3229-277e-46a6-f01b-99d6bcee7bdf",
        "colab": {
          "base_uri": "https://localhost:8080/"
        }
      },
      "execution_count": null,
      "outputs": [
        {
          "output_type": "execute_result",
          "data": {
            "text/plain": [
              "['15931',\n",
              " '8782',\n",
              " '16940',\n",
              " '14614',\n",
              " '',\n",
              " '4829',\n",
              " '12415',\n",
              " '13259',\n",
              " '11441',\n",
              " '8199',\n",
              " '',\n",
              " '2540',\n",
              " '2500',\n",
              " '6341',\n",
              " '2235',\n",
              " '1858',\n",
              " '4157',\n",
              " '5053',\n",
              " '6611',\n",
              " '1050',\n",
              " '4401',\n",
              " '6187',\n",
              " '1078',\n",
              " '3297',\n",
              " '',\n",
              " '25264',\n",
              " '23014',\n",
              " '15952',\n",
              " '',\n",
              " '10156',\n",
              " '4544',\n",
              " '4930',\n",
              " '11786',\n",
              " '15822',\n",
              " '',\n",
              " '1264',\n",
              " '6399',\n",
              " '2031',\n",
              " '6892',\n",
              " '3115',\n",
              " '5151',\n",
              " '5093',\n",
              " '6724',\n",
              " '7001',\n",
              " '4011',\n",
              " '1458',\n",
              " '1945',\n",
              " '',\n",
              " '2106',\n",
              " '2016',\n",
              " '1528',\n",
              " '2524',\n",
              " '6089',\n",
              " '4466',\n",
              " '3154',\n",
              " '2686',\n",
              " '3289',\n",
              " '5831',\n",
              " '1520',\n",
              " '2122',\n",
              " '5744',\n",
              " '',\n",
              " '33066',\n",
              " '22616',\n",
              " '',\n",
              " '1993',\n",
              " '8485',\n",
              " '1037',\n",
              " '9730',\n",
              " '2076',\n",
              " '7492',\n",
              " '10000',\n",
              " '2971',\n",
              " '',\n",
              " '11027',\n",
              " '9137',\n",
              " '4599',\n",
              " '7461',\n",
              " '1531',\n",
              " '12939',\n",
              " '',\n",
              " '17530',\n",
              " '18837',\n",
              " '19466',\n",
              " '4845',\n",
              " '',\n",
              " '1467',\n",
              " '4870',\n",
              " '10176',\n",
              " '6657',\n",
              " '5608',\n",
              " '2096',\n",
              " '9977',\n",
              " '6478',\n",
              " '',\n",
              " '18828',\n",
              " '26577',\n",
              " '',\n",
              " '17901',\n",
              " '5059',\n",
              " '13789',\n",
              " '4993',\n",
              " '',\n",
              " '6676',\n",
              " '3415',\n",
              " '2464',\n",
              " '5937',\n",
              " '4275',\n",
              " '6629',\n",
              " '7566',\n",
              " '1943',\n",
              " '6313',\n",
              " '4572',\n",
              " '',\n",
              " '9121',\n",
              " '10713',\n",
              " '5071',\n",
              " '1669',\n",
              " '7736',\n",
              " '10522',\n",
              " '6231',\n",
              " '',\n",
              " '6400',\n",
              " '1771',\n",
              " '4568',\n",
              " '7681',\n",
              " '7486',\n",
              " '6090',\n",
              " '2223',\n",
              " '5581',\n",
              " '6705',\n",
              " '5719',\n",
              " '7519',\n",
              " '',\n",
              " '6595',\n",
              " '3849',\n",
              " '6564',\n",
              " '1622',\n",
              " '2268',\n",
              " '6424',\n",
              " '5295',\n",
              " '3627',\n",
              " '2088',\n",
              " '7357',\n",
              " '6565',\n",
              " '1878',\n",
              " '',\n",
              " '20744',\n",
              " '25902',\n",
              " '15310',\n",
              " '',\n",
              " '11785',\n",
              " '2309',\n",
              " '7863',\n",
              " '15771',\n",
              " '4541',\n",
              " '',\n",
              " '9217',\n",
              " '14774',\n",
              " '10316',\n",
              " '1035',\n",
              " '',\n",
              " '5026',\n",
              " '5406',\n",
              " '2517',\n",
              " '5628',\n",
              " '4392',\n",
              " '5195',\n",
              " '5548',\n",
              " '4046',\n",
              " '2982',\n",
              " '4444',\n",
              " '4603',\n",
              " '4139',\n",
              " '5917',\n",
              " '4623',\n",
              " '5650',\n",
              " '',\n",
              " '1304',\n",
              " '7839',\n",
              " '7143',\n",
              " '1520',\n",
              " '3668',\n",
              " '6533',\n",
              " '4406',\n",
              " '7153',\n",
              " '4585',\n",
              " '5586',\n",
              " '7202',\n",
              " '',\n",
              " '10209',\n",
              " '5965',\n",
              " '',\n",
              " '5676',\n",
              " '8694',\n",
              " '8691',\n",
              " '5790',\n",
              " '5498',\n",
              " '2189',\n",
              " '5651',\n",
              " '7073',\n",
              " '5270',\n",
              " '3057',\n",
              " '',\n",
              " '2391',\n",
              " '8708',\n",
              " '8619',\n",
              " '4297',\n",
              " '4738',\n",
              " '10270',\n",
              " '3906',\n",
              " '',\n",
              " '3023',\n",
              " '4720',\n",
              " '1548',\n",
              " '2991',\n",
              " '3111',\n",
              " '7063',\n",
              " '2012',\n",
              " '3763',\n",
              " '2035',\n",
              " '1784',\n",
              " '5001',\n",
              " '1680',\n",
              " '',\n",
              " '7538',\n",
              " '7930',\n",
              " '9906',\n",
              " '8140',\n",
              " '13556',\n",
              " '4543',\n",
              " '',\n",
              " '15678',\n",
              " '13201',\n",
              " '14557',\n",
              " '2543',\n",
              " '7345',\n",
              " '',\n",
              " '30741',\n",
              " '29356',\n",
              " '',\n",
              " '8506',\n",
              " '2596',\n",
              " '1936',\n",
              " '5285',\n",
              " '11960',\n",
              " '10241',\n",
              " '',\n",
              " '4985',\n",
              " '2868',\n",
              " '10320',\n",
              " '8332',\n",
              " '1677',\n",
              " '2481',\n",
              " '2177',\n",
              " '7646',\n",
              " '',\n",
              " '6131',\n",
              " '10046',\n",
              " '10184',\n",
              " '4015',\n",
              " '4132',\n",
              " '6841',\n",
              " '4179',\n",
              " '6723',\n",
              " '',\n",
              " '11545',\n",
              " '8164',\n",
              " '17009',\n",
              " '6257',\n",
              " '',\n",
              " '5301',\n",
              " '2162',\n",
              " '4275',\n",
              " '5983',\n",
              " '2671',\n",
              " '5587',\n",
              " '1250',\n",
              " '3145',\n",
              " '1364',\n",
              " '1145',\n",
              " '5876',\n",
              " '5648',\n",
              " '1517',\n",
              " '4821',\n",
              " '5700',\n",
              " '',\n",
              " '16437',\n",
              " '14836',\n",
              " '4812',\n",
              " '3411',\n",
              " '8245',\n",
              " '',\n",
              " '7546',\n",
              " '4484',\n",
              " '3121',\n",
              " '6861',\n",
              " '6332',\n",
              " '1407',\n",
              " '4020',\n",
              " '5444',\n",
              " '7421',\n",
              " '3100',\n",
              " '3955',\n",
              " '',\n",
              " '16399',\n",
              " '',\n",
              " '6052',\n",
              " '5898',\n",
              " '4698',\n",
              " '4965',\n",
              " '3117',\n",
              " '1798',\n",
              " '4646',\n",
              " '5183',\n",
              " '5615',\n",
              " '1508',\n",
              " '1065',\n",
              " '4239',\n",
              " '5268',\n",
              " '5753',\n",
              " '3913',\n",
              " '',\n",
              " '8019',\n",
              " '4512',\n",
              " '19441',\n",
              " '',\n",
              " '11542',\n",
              " '37427',\n",
              " '',\n",
              " '2233',\n",
              " '1709',\n",
              " '1969',\n",
              " '5307',\n",
              " '4878',\n",
              " '2657',\n",
              " '6902',\n",
              " '6803',\n",
              " '2376',\n",
              " '4771',\n",
              " '4720',\n",
              " '4788',\n",
              " '3331',\n",
              " '',\n",
              " '58268',\n",
              " '',\n",
              " '15355',\n",
              " '3160',\n",
              " '15157',\n",
              " '2642',\n",
              " '',\n",
              " '5958',\n",
              " '8776',\n",
              " '5573',\n",
              " '1966',\n",
              " '6919',\n",
              " '2661',\n",
              " '1810',\n",
              " '7727',\n",
              " '3528',\n",
              " '3520',\n",
              " '',\n",
              " '3786',\n",
              " '5268',\n",
              " '7101',\n",
              " '7405',\n",
              " '4907',\n",
              " '2235',\n",
              " '4133',\n",
              " '4449',\n",
              " '4107',\n",
              " '7039',\n",
              " '',\n",
              " '1192',\n",
              " '',\n",
              " '15060',\n",
              " '9010',\n",
              " '17932',\n",
              " '',\n",
              " '3037',\n",
              " '6302',\n",
              " '1310',\n",
              " '3578',\n",
              " '3499',\n",
              " '4572',\n",
              " '2899',\n",
              " '6801',\n",
              " '7015',\n",
              " '8003',\n",
              " '1645',\n",
              " '',\n",
              " '2609',\n",
              " '8239',\n",
              " '11678',\n",
              " '4553',\n",
              " '3746',\n",
              " '7926',\n",
              " '4316',\n",
              " '',\n",
              " '7989',\n",
              " '3443',\n",
              " '5709',\n",
              " '2736',\n",
              " '1066',\n",
              " '5070',\n",
              " '5401',\n",
              " '4781',\n",
              " '8140',\n",
              " '5206',\n",
              " '',\n",
              " '6619',\n",
              " '4757',\n",
              " '5744',\n",
              " '5749',\n",
              " '4729',\n",
              " '4403',\n",
              " '1124',\n",
              " '3927',\n",
              " '1505',\n",
              " '6378',\n",
              " '7011',\n",
              " '7042',\n",
              " '',\n",
              " '10734',\n",
              " '8546',\n",
              " '11816',\n",
              " '3041',\n",
              " '8038',\n",
              " '1514',\n",
              " '8005',\n",
              " '',\n",
              " '2358',\n",
              " '4435',\n",
              " '15419',\n",
              " '9841',\n",
              " '1425',\n",
              " '',\n",
              " '1575',\n",
              " '10261',\n",
              " '4196',\n",
              " '',\n",
              " '13692',\n",
              " '3944',\n",
              " '5136',\n",
              " '14997',\n",
              " '',\n",
              " '2395',\n",
              " '2053',\n",
              " '3511',\n",
              " '5846',\n",
              " '3289',\n",
              " '2223',\n",
              " '6256',\n",
              " '1725',\n",
              " '8118',\n",
              " '1615',\n",
              " '',\n",
              " '5239',\n",
              " '14775',\n",
              " '4030',\n",
              " '',\n",
              " '10610',\n",
              " '19176',\n",
              " '',\n",
              " '5746',\n",
              " '4448',\n",
              " '6311',\n",
              " '7034',\n",
              " '1101',\n",
              " '3327',\n",
              " '2740',\n",
              " '2102',\n",
              " '2826',\n",
              " '6415',\n",
              " '2725',\n",
              " '6958',\n",
              " '',\n",
              " '11322',\n",
              " '3127',\n",
              " '9187',\n",
              " '10407',\n",
              " '12052',\n",
              " '9870',\n",
              " '10917',\n",
              " '',\n",
              " '7802',\n",
              " '15736',\n",
              " '12384',\n",
              " '12976',\n",
              " '9523',\n",
              " '',\n",
              " '4431',\n",
              " '5918',\n",
              " '7903',\n",
              " '6003',\n",
              " '5690',\n",
              " '7135',\n",
              " '6625',\n",
              " '3042',\n",
              " '3791',\n",
              " '4604',\n",
              " '4472',\n",
              " '',\n",
              " '5938',\n",
              " '1763',\n",
              " '1053',\n",
              " '1054',\n",
              " '6116',\n",
              " '1785',\n",
              " '6375',\n",
              " '3025',\n",
              " '3233',\n",
              " '7402',\n",
              " '3616',\n",
              " '4328',\n",
              " '',\n",
              " '8730',\n",
              " '1695',\n",
              " '7271',\n",
              " '12172',\n",
              " '',\n",
              " '1549',\n",
              " '1093',\n",
              " '8703',\n",
              " '4985',\n",
              " '4782',\n",
              " '3867',\n",
              " '3377',\n",
              " '5399',\n",
              " '2160',\n",
              " '',\n",
              " '3877',\n",
              " '9623',\n",
              " '16382',\n",
              " '7247',\n",
              " '',\n",
              " '6002',\n",
              " '5321',\n",
              " '2250',\n",
              " '1800',\n",
              " '1861',\n",
              " '1295',\n",
              " '5078',\n",
              " '4417',\n",
              " '5520',\n",
              " '3786',\n",
              " '3256',\n",
              " '3833',\n",
              " '6064',\n",
              " '1192',\n",
              " '',\n",
              " '5113',\n",
              " '7824',\n",
              " '1006',\n",
              " '8708',\n",
              " '2630',\n",
              " '8752',\n",
              " '7077',\n",
              " '',\n",
              " '4902',\n",
              " '3429',\n",
              " '2356',\n",
              " '5491',\n",
              " '2655',\n",
              " '3510',\n",
              " '1323',\n",
              " '3556',\n",
              " '2666',\n",
              " '5398',\n",
              " '3297',\n",
              " '5691',\n",
              " '5189',\n",
              " '6097',\n",
              " '3642',\n",
              " '',\n",
              " '6558',\n",
              " '5566',\n",
              " '6259',\n",
              " '2433',\n",
              " '5153',\n",
              " '4382',\n",
              " '2403',\n",
              " '2022',\n",
              " '4473',\n",
              " '6768',\n",
              " '6971',\n",
              " '',\n",
              " '10026',\n",
              " '13871',\n",
              " '13729',\n",
              " '5818',\n",
              " '9155',\n",
              " '10414',\n",
              " '',\n",
              " '10107',\n",
              " '1720',\n",
              " '9245',\n",
              " '2438',\n",
              " '5150',\n",
              " '2275',\n",
              " '7178',\n",
              " '5384',\n",
              " '',\n",
              " '3092',\n",
              " '4749',\n",
              " '3262',\n",
              " '2065',\n",
              " '5267',\n",
              " '5886',\n",
              " '4299',\n",
              " '5495',\n",
              " '2835',\n",
              " '3656',\n",
              " '3673',\n",
              " '5304',\n",
              " '3762',\n",
              " '1007',\n",
              " '1018',\n",
              " '',\n",
              " '28554',\n",
              " '21993',\n",
              " '',\n",
              " '2805',\n",
              " '1096',\n",
              " '2793',\n",
              " '8293',\n",
              " '3124',\n",
              " '1876',\n",
              " '7970',\n",
              " '2845',\n",
              " '',\n",
              " '6531',\n",
              " '4430',\n",
              " '1311',\n",
              " '2156',\n",
              " '7435',\n",
              " '3390',\n",
              " '4009',\n",
              " '4575',\n",
              " '4333',\n",
              " '2742',\n",
              " '6973',\n",
              " '4136',\n",
              " '',\n",
              " '2392',\n",
              " '4116',\n",
              " '4306',\n",
              " '2518',\n",
              " '4393',\n",
              " '1104',\n",
              " '2972',\n",
              " '2281',\n",
              " '5399',\n",
              " '4100',\n",
              " '2883',\n",
              " '7281',\n",
              " '',\n",
              " '2391',\n",
              " '6469',\n",
              " '3870',\n",
              " '7305',\n",
              " '4913',\n",
              " '7618',\n",
              " '6042',\n",
              " '7663',\n",
              " '5674',\n",
              " '5749',\n",
              " '6631',\n",
              " '',\n",
              " '3428',\n",
              " '12053',\n",
              " '7299',\n",
              " '4773',\n",
              " '10473',\n",
              " '8874',\n",
              " '2151',\n",
              " '',\n",
              " '3248',\n",
              " '1165',\n",
              " '2435',\n",
              " '4215',\n",
              " '4789',\n",
              " '2067',\n",
              " '4858',\n",
              " '4051',\n",
              " '1963',\n",
              " '6408',\n",
              " '2912',\n",
              " '4624',\n",
              " '1268',\n",
              " '',\n",
              " '4409',\n",
              " '',\n",
              " '13565',\n",
              " '',\n",
              " '7738',\n",
              " '5672',\n",
              " '4046',\n",
              " '7972',\n",
              " '3639',\n",
              " '4021',\n",
              " '8963',\n",
              " '2633',\n",
              " '7339',\n",
              " '',\n",
              " '9829',\n",
              " '15037',\n",
              " '13499',\n",
              " '4234',\n",
              " '',\n",
              " '6455',\n",
              " '7168',\n",
              " '5332',\n",
              " '6783',\n",
              " '16123',\n",
              " '',\n",
              " '6047',\n",
              " '4912',\n",
              " '11390',\n",
              " '9771',\n",
              " '',\n",
              " '9789',\n",
              " '5224',\n",
              " '1315',\n",
              " '3203',\n",
              " '8979',\n",
              " '5935',\n",
              " '9119',\n",
              " '8165',\n",
              " '',\n",
              " '35275',\n",
              " '',\n",
              " '4518',\n",
              " '6479',\n",
              " '12034',\n",
              " '1535',\n",
              " '11757',\n",
              " '1587',\n",
              " '',\n",
              " '4610',\n",
              " '1626',\n",
              " '2456',\n",
              " '1352',\n",
              " '5620',\n",
              " '5503',\n",
              " '6280',\n",
              " '3946',\n",
              " '4973',\n",
              " '4822',\n",
              " '5997',\n",
              " '3462',\n",
              " '4956',\n",
              " '4251',\n",
              " '',\n",
              " '2800',\n",
              " '1862',\n",
              " '1109',\n",
              " '4088',\n",
              " '1956',\n",
              " '3073',\n",
              " '5845',\n",
              " '5377',\n",
              " '5507',\n",
              " '4893',\n",
              " '4028',\n",
              " '2680',\n",
              " '1625',\n",
              " '5827',\n",
              " '',\n",
              " '16667',\n",
              " '25591',\n",
              " '',\n",
              " '6522',\n",
              " '8676',\n",
              " '8184',\n",
              " '5751',\n",
              " '9105',\n",
              " '3063',\n",
              " '1674',\n",
              " '10344',\n",
              " '',\n",
              " '5539',\n",
              " '1142',\n",
              " '5816',\n",
              " '1168',\n",
              " '5969',\n",
              " '1389',\n",
              " '2075',\n",
              " '7074',\n",
              " '3101',\n",
              " '7431',\n",
              " '2743',\n",
              " '5736',\n",
              " '',\n",
              " '2030',\n",
              " '3296',\n",
              " '4251',\n",
              " '2939',\n",
              " '1612',\n",
              " '2397',\n",
              " '6043',\n",
              " '3978',\n",
              " '2302',\n",
              " '4059',\n",
              " '3466',\n",
              " '5130',\n",
              " '4417',\n",
              " '3434',\n",
              " '5507',\n",
              " '',\n",
              " '6623',\n",
              " '1216',\n",
              " '6469',\n",
              " '3269',\n",
              " '5336',\n",
              " '3321',\n",
              " '2133',\n",
              " '4883',\n",
              " '3175',\n",
              " '5315',\n",
              " '3771',\n",
              " '4732',\n",
              " '4096',\n",
              " '',\n",
              " '7446',\n",
              " '4631',\n",
              " '9206',\n",
              " '1435',\n",
              " '8494',\n",
              " '3378',\n",
              " '4408',\n",
              " '1267',\n",
              " '',\n",
              " '1031',\n",
              " '5587',\n",
              " '7270',\n",
              " '7454',\n",
              " '1386',\n",
              " '4005',\n",
              " '7112',\n",
              " '5510',\n",
              " '6167',\n",
              " '6258',\n",
              " '6177',\n",
              " '2584',\n",
              " '',\n",
              " '9163',\n",
              " '6488',\n",
              " '8195',\n",
              " '7072',\n",
              " '2543',\n",
              " '7303',\n",
              " '3772',\n",
              " '3218',\n",
              " '6430',\n",
              " '',\n",
              " '1846',\n",
              " '1426',\n",
              " '6176',\n",
              " '2386',\n",
              " '7884',\n",
              " '3130',\n",
              " '2066',\n",
              " '1363',\n",
              " '2676',\n",
              " '4032',\n",
              " '5883',\n",
              " '',\n",
              " '6238',\n",
              " '4357',\n",
              " '6244',\n",
              " '5001',\n",
              " '6205',\n",
              " '2031',\n",
              " '4763',\n",
              " '4717',\n",
              " '3449',\n",
              " '5988',\n",
              " '2594',\n",
              " '6508',\n",
              " '6129',\n",
              " '3292',\n",
              " '',\n",
              " '5276',\n",
              " '4818',\n",
              " '3936',\n",
              " '3716',\n",
              " '6800',\n",
              " '9499',\n",
              " '6284',\n",
              " '9610',\n",
              " '',\n",
              " '17850',\n",
              " '15611',\n",
              " '1168',\n",
              " '10641',\n",
              " '',\n",
              " '3648',\n",
              " '5602',\n",
              " '3507',\n",
              " '4240',\n",
              " '1019',\n",
              " '9291',\n",
              " '4877',\n",
              " '1210',\n",
              " '1926',\n",
              " '',\n",
              " '3812',\n",
              " '9890',\n",
              " '7661',\n",
              " '13651',\n",
              " '1409',\n",
              " '10386',\n",
              " '',\n",
              " '5305',\n",
              " '6002',\n",
              " '5503',\n",
              " '1214',\n",
              " '3192',\n",
              " '2611',\n",
              " '3303',\n",
              " '3203',\n",
              " '1917',\n",
              " '2840',\n",
              " '5494',\n",
              " '1825',\n",
              " '1135',\n",
              " '2000',\n",
              " '2666',\n",
              " '',\n",
              " '1790',\n",
              " '7427',\n",
              " '4094',\n",
              " '5114',\n",
              " '4197',\n",
              " '4891',\n",
              " '3757',\n",
              " '1257',\n",
              " '1111',\n",
              " '7603',\n",
              " '',\n",
              " '6791',\n",
              " '21115',\n",
              " '',\n",
              " '6530',\n",
              " '4247',\n",
              " '12222',\n",
              " '12781',\n",
              " '',\n",
              " '8490',\n",
              " '18751',\n",
              " '',\n",
              " '3652',\n",
              " '3504',\n",
              " '3702',\n",
              " '4855',\n",
              " '1212',\n",
              " '6255',\n",
              " '1856',\n",
              " '5854',\n",
              " '7241',\n",
              " '3881',\n",
              " '7206',\n",
              " '1378',\n",
              " '',\n",
              " '4129',\n",
              " '13281',\n",
              " '',\n",
              " '8377',\n",
              " '9763',\n",
              " '7679',\n",
              " '4214',\n",
              " '4630',\n",
              " '8473',\n",
              " '8473',\n",
              " '',\n",
              " '8725',\n",
              " '6220',\n",
              " '2198',\n",
              " '',\n",
              " '7744',\n",
              " '1879',\n",
              " '11034',\n",
              " '7657',\n",
              " '9804',\n",
              " '8737',\n",
              " '11941',\n",
              " '',\n",
              " '6000',\n",
              " '11448',\n",
              " '7628',\n",
              " '1637',\n",
              " '13733',\n",
              " '12875',\n",
              " '',\n",
              " '4185',\n",
              " '14872',\n",
              " '3858',\n",
              " '3304',\n",
              " '3888',\n",
              " ...]"
            ]
          },
          "metadata": {},
          "execution_count": 2
        }
      ]
    },
    {
      "cell_type": "markdown",
      "source": [
        "# Rock paper scissors"
      ],
      "metadata": {
        "id": "c4UuxZScs47F"
      }
    },
    {
      "cell_type": "code",
      "source": [
        "import random\n",
        "\n",
        "print(\"Welcome to Rock, Paper, Scissors!\")\n",
        "\n",
        "choices = ['rock', 'paper', 'scissors']\n",
        "\n",
        "player_choice = input(\"Enter your choice (rock, paper, or scissors): \").lower()\n",
        "if player_choice not in choices:\n",
        "    print(\"Invalid choice. Please choose again.\")\n",
        "else:\n",
        "    computer_choice = random.choice(choices)\n",
        "    print(\"Computer chooses:\", computer_choice)\n",
        "\n",
        "    if player_choice == computer_choice:\n",
        "        print(\"It's a tie!\")\n",
        "    elif player_choice == 'rock':\n",
        "        if computer_choice == 'paper':\n",
        "            print(\"Computer wins!\")\n",
        "        else:\n",
        "            print(\"You win!\")\n",
        "    elif player_choice == 'paper':\n",
        "        if computer_choice == 'scissors':\n",
        "            print(\"Computer wins!\")\n",
        "        else:\n",
        "            print(\"You win!\")\n",
        "    elif player_choice == 'scissors':\n",
        "        if computer_choice == 'rock':\n",
        "            print(\"Computer wins!\")\n",
        "        else:\n",
        "            print(\"You win!\")\n"
      ],
      "metadata": {
        "id": "_YlYHHWOs247"
      },
      "execution_count": null,
      "outputs": []
    },
    {
      "cell_type": "code",
      "source": [],
      "metadata": {
        "id": "m7_7oKz9sNMY"
      },
      "execution_count": null,
      "outputs": []
    }
  ]
}